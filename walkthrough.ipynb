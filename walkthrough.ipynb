{
 "cells": [
  {
   "cell_type": "code",
   "execution_count": 1,
   "metadata": {},
   "outputs": [],
   "source": [
    "import os"
   ]
  },
  {
   "cell_type": "code",
   "execution_count": 2,
   "metadata": {},
   "outputs": [],
   "source": [
    "os.environ[\"QCI_API_URL\"] = \"https://api.qci-next.com\""
   ]
  },
  {
   "cell_type": "code",
   "execution_count": 3,
   "metadata": {},
   "outputs": [],
   "source": [
    "import qci_client as qc"
   ]
  },
  {
   "cell_type": "code",
   "execution_count": 4,
   "metadata": {},
   "outputs": [
    {
     "name": "stdout",
     "output_type": "stream",
     "text": [
      "\u001b[0;31mInit signature:\u001b[0m\n",
      "\u001b[0mqc\u001b[0m\u001b[0;34m.\u001b[0m\u001b[0mQciClient\u001b[0m\u001b[0;34m(\u001b[0m\u001b[0;34m\u001b[0m\n",
      "\u001b[0;34m\u001b[0m    \u001b[0m_bearer_info\u001b[0m\u001b[0;34m:\u001b[0m \u001b[0mdict\u001b[0m \u001b[0;34m=\u001b[0m \u001b[0;34m<\u001b[0m\u001b[0mfactory\u001b[0m\u001b[0;34m>\u001b[0m\u001b[0;34m,\u001b[0m\u001b[0;34m\u001b[0m\n",
      "\u001b[0;34m\u001b[0m    \u001b[0mapi_token\u001b[0m\u001b[0;34m:\u001b[0m \u001b[0mOptional\u001b[0m\u001b[0;34m[\u001b[0m\u001b[0mstr\u001b[0m\u001b[0;34m]\u001b[0m \u001b[0;34m=\u001b[0m \u001b[0;32mNone\u001b[0m\u001b[0;34m,\u001b[0m\u001b[0;34m\u001b[0m\n",
      "\u001b[0;34m\u001b[0m    \u001b[0mset_bearer_token_on_init\u001b[0m\u001b[0;34m:\u001b[0m \u001b[0mbool\u001b[0m \u001b[0;34m=\u001b[0m \u001b[0;32mTrue\u001b[0m\u001b[0;34m,\u001b[0m\u001b[0;34m\u001b[0m\n",
      "\u001b[0;34m\u001b[0m    \u001b[0murl\u001b[0m\u001b[0;34m:\u001b[0m \u001b[0mOptional\u001b[0m\u001b[0;34m[\u001b[0m\u001b[0mstr\u001b[0m\u001b[0;34m]\u001b[0m \u001b[0;34m=\u001b[0m \u001b[0;32mNone\u001b[0m\u001b[0;34m,\u001b[0m\u001b[0;34m\u001b[0m\n",
      "\u001b[0;34m\u001b[0m    \u001b[0mauthorize\u001b[0m\u001b[0;34m:\u001b[0m \u001b[0mOptional\u001b[0m\u001b[0;34m[\u001b[0m\u001b[0mstr\u001b[0m\u001b[0;34m]\u001b[0m \u001b[0;34m=\u001b[0m \u001b[0;32mNone\u001b[0m\u001b[0;34m,\u001b[0m\u001b[0;34m\u001b[0m\n",
      "\u001b[0;34m\u001b[0m    \u001b[0m_authorize\u001b[0m\u001b[0;34m:\u001b[0m \u001b[0mstr\u001b[0m \u001b[0;34m=\u001b[0m \u001b[0;34m'authorize'\u001b[0m\u001b[0;34m,\u001b[0m\u001b[0;34m\u001b[0m\n",
      "\u001b[0;34m\u001b[0m    \u001b[0m_download\u001b[0m\u001b[0;34m:\u001b[0m \u001b[0mstr\u001b[0m \u001b[0;34m=\u001b[0m \u001b[0;34m'contents'\u001b[0m\u001b[0;34m,\u001b[0m\u001b[0;34m\u001b[0m\n",
      "\u001b[0;34m\u001b[0m    \u001b[0m_add_headers\u001b[0m\u001b[0;34m:\u001b[0m \u001b[0mDict\u001b[0m\u001b[0;34m[\u001b[0m\u001b[0mstr\u001b[0m\u001b[0;34m,\u001b[0m \u001b[0mstr\u001b[0m\u001b[0;34m]\u001b[0m \u001b[0;34m=\u001b[0m \u001b[0;32mNone\u001b[0m\u001b[0;34m,\u001b[0m\u001b[0;34m\u001b[0m\n",
      "\u001b[0;34m\u001b[0m    \u001b[0m_user_not_authorized\u001b[0m\u001b[0;34m:\u001b[0m \u001b[0mstr\u001b[0m \u001b[0;34m=\u001b[0m \u001b[0;34m'user not authorized'\u001b[0m\u001b[0;34m,\u001b[0m\u001b[0;34m\u001b[0m\n",
      "\u001b[0;34m\u001b[0m    \u001b[0mtimeout\u001b[0m\u001b[0;34m:\u001b[0m \u001b[0mOptional\u001b[0m\u001b[0;34m[\u001b[0m\u001b[0mfloat\u001b[0m\u001b[0;34m]\u001b[0m \u001b[0;34m=\u001b[0m \u001b[0;36m300.0\u001b[0m\u001b[0;34m,\u001b[0m\u001b[0;34m\u001b[0m\n",
      "\u001b[0;34m\u001b[0m    \u001b[0mdebug\u001b[0m\u001b[0;34m:\u001b[0m \u001b[0mbool\u001b[0m \u001b[0;34m=\u001b[0m \u001b[0;32mFalse\u001b[0m\u001b[0;34m,\u001b[0m\u001b[0;34m\u001b[0m\n",
      "\u001b[0;34m\u001b[0m    \u001b[0mmax_workers\u001b[0m\u001b[0;34m:\u001b[0m \u001b[0mint\u001b[0m \u001b[0;34m=\u001b[0m \u001b[0;36m8\u001b[0m\u001b[0;34m,\u001b[0m\u001b[0;34m\u001b[0m\n",
      "\u001b[0;34m\u001b[0m    \u001b[0mfiles\u001b[0m\u001b[0;34m:\u001b[0m \u001b[0mstr\u001b[0m \u001b[0;34m=\u001b[0m \u001b[0;34m'files'\u001b[0m\u001b[0;34m,\u001b[0m\u001b[0;34m\u001b[0m\n",
      "\u001b[0;34m\u001b[0m    \u001b[0mjobs\u001b[0m\u001b[0;34m:\u001b[0m \u001b[0mstr\u001b[0m \u001b[0;34m=\u001b[0m \u001b[0;34m'jobs'\u001b[0m\u001b[0;34m,\u001b[0m\u001b[0;34m\u001b[0m\n",
      "\u001b[0;34m\u001b[0m    \u001b[0m_supported_job_types\u001b[0m\u001b[0;34m:\u001b[0m \u001b[0mList\u001b[0m\u001b[0;34m[\u001b[0m\u001b[0mstr\u001b[0m\u001b[0;34m]\u001b[0m \u001b[0;34m=\u001b[0m \u001b[0;32mNone\u001b[0m\u001b[0;34m,\u001b[0m\u001b[0;34m\u001b[0m\n",
      "\u001b[0;34m\u001b[0m\u001b[0;34m)\u001b[0m \u001b[0;34m->\u001b[0m \u001b[0;32mNone\u001b[0m\u001b[0;34m\u001b[0m\u001b[0;34m\u001b[0m\u001b[0m\n",
      "\u001b[0;31mDocstring:\u001b[0m     \n",
      "Provides requests for QCIs public API as well as utility functions for creating requests and processing entire jobs.\n",
      "\n",
      ":param max_workers: int, number of threads for concurrent file download calls\n",
      ":param files: url path fragment to specify files API endpoint\n",
      ":param jobs: url path fragment to specify jobs API endpoint\n",
      ":param _supported_job_types: list of job_types accepted by jobs endpoint\n",
      "\u001b[0;31mFile:\u001b[0m           ~/src/qci/qci-client/qci_client/qci_client.py\n",
      "\u001b[0;31mType:\u001b[0m           type\n",
      "\u001b[0;31mSubclasses:\u001b[0m     "
     ]
    }
   ],
   "source": [
    "qc.QciClient?"
   ]
  },
  {
   "cell_type": "code",
   "execution_count": 5,
   "metadata": {},
   "outputs": [],
   "source": [
    "client = qc.QciClient()"
   ]
  },
  {
   "cell_type": "code",
   "execution_count": 6,
   "metadata": {},
   "outputs": [],
   "source": [
    "import numpy as np"
   ]
  },
  {
   "cell_type": "code",
   "execution_count": 7,
   "metadata": {},
   "outputs": [],
   "source": [
    "Q = np.random.random((4,4))\n",
    "Q = (Q.T + Q) / 2"
   ]
  },
  {
   "cell_type": "code",
   "execution_count": 8,
   "metadata": {},
   "outputs": [],
   "source": [
    "file_reponse = client.upload_file(Q, file_type=\"qubo\", file_name=\"random4x4\")"
   ]
  },
  {
   "cell_type": "code",
   "execution_count": 9,
   "metadata": {},
   "outputs": [
    {
     "data": {
      "text/plain": [
       "'64f9f793f25d8eafde72497a'"
      ]
     },
     "execution_count": 9,
     "metadata": {},
     "output_type": "execute_result"
    }
   ],
   "source": [
    "file_reponse[\"file_id\"]"
   ]
  },
  {
   "cell_type": "code",
   "execution_count": 10,
   "metadata": {},
   "outputs": [
    {
     "name": "stdout",
     "output_type": "stream",
     "text": [
      "Job submitted job_id='64f9f793f25d8eafde72497d'-: 2023/09/07 10:17:23\n",
      "RUNNING: 2023/09/07 10:17:25\n",
      "COMPLETED: 2023/09/07 10:17:32\n"
     ]
    }
   ],
   "source": [
    "body = {\"qubo_file_id\": file_reponse[\"file_id\"], \"params\": {\"sampler_type\": \"csample\"}, \"tags\": [\"test_job\", \"random\"]}\n",
    "response = client.process_job(job_body=body, job_type=\"sample-qubo\")"
   ]
  },
  {
   "cell_type": "code",
   "execution_count": 11,
   "metadata": {},
   "outputs": [
    {
     "data": {
      "text/plain": [
       "[0,\n",
       " 0.0568019131524341,\n",
       " 0.40270070297928895,\n",
       " 0.45395073596696733,\n",
       " 0.7629036065612653,\n",
       " 1.3481775446912552,\n",
       " 1.3865309716517005,\n",
       " 1.7135248237800034,\n",
       " 1.8314510996871514,\n",
       " 1.9426557972621858,\n",
       " 2.0197488740787564,\n",
       " 3.532051167728724,\n",
       " 3.730701910052778,\n",
       " 3.9451697520383893,\n",
       " 4.247184516502347,\n",
       " 6.889375193831142]"
      ]
     },
     "execution_count": 11,
     "metadata": {},
     "output_type": "execute_result"
    }
   ],
   "source": [
    "response[\"results\"][\"energies\"]"
   ]
  },
  {
   "cell_type": "code",
   "execution_count": 12,
   "metadata": {},
   "outputs": [
    {
     "data": {
      "text/plain": [
       "[1, 1, 1, 1, 1, 1, 1, 1, 1, 1, 1, 1, 1, 1, 1, 1]"
      ]
     },
     "execution_count": 12,
     "metadata": {},
     "output_type": "execute_result"
    }
   ],
   "source": [
    "response[\"results\"][\"counts\"]"
   ]
  },
  {
   "cell_type": "code",
   "execution_count": 13,
   "metadata": {},
   "outputs": [
    {
     "data": {
      "text/plain": [
       "{'job_id': '64f9f793f25d8eafde72497d',\n",
       " 'details': {'status': 'COMPLETED',\n",
       "  'type': 'sample_qubo',\n",
       "  'organization_id': '5ddf5db3fed87d53b6bf392a',\n",
       "  'username': 'wdyk'},\n",
       " 'results': {'file_id': '64f9f79af25d8eafde724982'},\n",
       " 'submission': {'qubo_file_id': '64f9f793f25d8eafde72497a',\n",
       "  'params': {'sampler_type': 'csample'}},\n",
       " 'metrics': {'time_ns': {'wall': {'start': 1694103443688575972,\n",
       "    'end': 1694103451113686175,\n",
       "    'total': 7425110203,\n",
       "    'queue': {'total': 64209771,\n",
       "     'complete': {'start': 1694103450614227454,\n",
       "      'end': 1694103450622457374,\n",
       "      'total': 8229920},\n",
       "     'job_intake': {'start': 1694103443700185934,\n",
       "      'end': 1694103443712815983,\n",
       "      'total': 12630049},\n",
       "     'sampler': {'start': 1694103444139619092,\n",
       "      'end': 1694103444148757260,\n",
       "      'total': 9138168},\n",
       "     'uber_post_process': {'start': 1694103450259331294,\n",
       "      'end': 1694103450267087408,\n",
       "      'total': 7756114},\n",
       "     'uber_solver': {'total': 26455520,\n",
       "      'visits': [{'start': 1694103443974339115,\n",
       "        'end': 1694103443981460058,\n",
       "        'total': 7120943},\n",
       "       {'start': 1694103449995020677,\n",
       "        'end': 1694103450003472373,\n",
       "        'total': 8451696},\n",
       "       {'start': 1694103450470069423,\n",
       "        'end': 1694103450480952304,\n",
       "        'total': 10882881}]}}}},\n",
       "  'provider': {}}}"
      ]
     },
     "execution_count": 13,
     "metadata": {},
     "output_type": "execute_result"
    }
   ],
   "source": [
    "response[\"job_info\"]"
   ]
  },
  {
   "cell_type": "code",
   "execution_count": 14,
   "metadata": {},
   "outputs": [
    {
     "data": {
      "text/plain": [
       "[[0, 0, 0, 0],\n",
       " [1, 0, 0, 0],\n",
       " [0, 0, 1, 0],\n",
       " [0, 0, 0, 1],\n",
       " [0, 1, 0, 0],\n",
       " [1, 1, 0, 0],\n",
       " [1, 0, 1, 0],\n",
       " [0, 1, 0, 1],\n",
       " [0, 0, 1, 1],\n",
       " [1, 0, 0, 1],\n",
       " [0, 1, 1, 0],\n",
       " [1, 1, 1, 0],\n",
       " [1, 1, 0, 1],\n",
       " [0, 1, 1, 1],\n",
       " [1, 0, 1, 1],\n",
       " [1, 1, 1, 1]]"
      ]
     },
     "execution_count": 14,
     "metadata": {},
     "output_type": "execute_result"
    }
   ],
   "source": [
    "response[\"results\"][\"samples\"]"
   ]
  },
  {
   "cell_type": "code",
   "execution_count": 15,
   "metadata": {},
   "outputs": [
    {
     "data": {
      "text/plain": [
       "array([[0.05680191, 0.26423601, 0.46351418, 0.71595157],\n",
       "       [0.26423601, 0.76290361, 0.42707228, 0.24833524],\n",
       "       [0.46351418, 0.42707228, 0.4027007 , 0.48739983],\n",
       "       [0.71595157, 0.24833524, 0.48739983, 0.45395074]])"
      ]
     },
     "execution_count": 15,
     "metadata": {},
     "output_type": "execute_result"
    }
   ],
   "source": [
    "Q"
   ]
  },
  {
   "cell_type": "code",
   "execution_count": 16,
   "metadata": {},
   "outputs": [],
   "source": [
    "Q = -1 + 2* np.random.random((4, 4))\n",
    "Q = (Q.T+ Q) / 2"
   ]
  },
  {
   "cell_type": "code",
   "execution_count": 17,
   "metadata": {},
   "outputs": [],
   "source": [
    "file_response = client.upload_file(Q, file_type=\"qubo\")"
   ]
  },
  {
   "cell_type": "code",
   "execution_count": 18,
   "metadata": {},
   "outputs": [],
   "source": [
    "body[\"qubo_file_id\"] = file_response[\"file_id\"]"
   ]
  },
  {
   "cell_type": "code",
   "execution_count": 19,
   "metadata": {},
   "outputs": [
    {
     "name": "stdout",
     "output_type": "stream",
     "text": [
      "Job submitted job_id='64f9f79df25d8eafde724989'-: 2023/09/07 10:17:33\n",
      "RUNNING: 2023/09/07 10:17:35\n",
      "COMPLETED: 2023/09/07 10:17:42\n"
     ]
    }
   ],
   "source": [
    "response = client.process_job(job_body=body, job_type=\"sample-qubo\")"
   ]
  },
  {
   "cell_type": "code",
   "execution_count": 20,
   "metadata": {},
   "outputs": [
    {
     "data": {
      "text/plain": [
       "array([[-0.88771376,  0.53682975,  0.51624879, -0.27794545],\n",
       "       [ 0.53682975, -0.3486231 ,  0.31708781, -0.70012735],\n",
       "       [ 0.51624879,  0.31708781,  0.28453754, -0.09245882],\n",
       "       [-0.27794545, -0.70012735, -0.09245882,  0.92897182]])"
      ]
     },
     "execution_count": 20,
     "metadata": {},
     "output_type": "execute_result"
    }
   ],
   "source": [
    "Q"
   ]
  },
  {
   "cell_type": "code",
   "execution_count": 21,
   "metadata": {},
   "outputs": [
    {
     "data": {
      "text/plain": [
       "[-1.1898511244331456,\n",
       " -0.8877137580512509,\n",
       " -0.819905979644713,\n",
       " -0.5146328311294215,\n",
       " -0.34862310442894584,\n",
       " -0.16267735434548958,\n",
       " -0.08611045697194397,\n",
       " 0,\n",
       " 0.2845375417275904,\n",
       " 0.42932135806834215,\n",
       " 0.5700900552894432,\n",
       " 0.5764419726316259,\n",
       " 0.6174846479445515,\n",
       " 0.9289718217937182,\n",
       " 1.0285917264756885,\n",
       " 1.788533379764902]"
      ]
     },
     "execution_count": 21,
     "metadata": {},
     "output_type": "execute_result"
    }
   ],
   "source": [
    "response[\"results\"][\"energies\"]"
   ]
  },
  {
   "cell_type": "code",
   "execution_count": 22,
   "metadata": {},
   "outputs": [
    {
     "name": "stdout",
     "output_type": "stream",
     "text": [
      "Job submitted job_id='64f9f7a7f25d8eafde724991'-: 2023/09/07 10:17:43\n"
     ]
    }
   ],
   "source": [
    "response = client.process_job(job_body=body, job_type=\"sample-qubo\", wait=False)"
   ]
  },
  {
   "cell_type": "markdown",
   "metadata": {},
   "source": [
    "Run the following cell until `'status': 'COMPLETED'` appears. If `'status': 'ERROR'` appears, then contact support."
   ]
  },
  {
   "cell_type": "code",
   "execution_count": 27,
   "metadata": {},
   "outputs": [
    {
     "data": {
      "text/plain": [
       "{'job_id': '64f9f7a7f25d8eafde724991', 'status': 'COMPLETED'}"
      ]
     },
     "execution_count": 27,
     "metadata": {},
     "output_type": "execute_result"
    }
   ],
   "source": [
    "client.get_job_status(job_id=response[\"job_id\"])"
   ]
  },
  {
   "cell_type": "code",
   "execution_count": 28,
   "metadata": {},
   "outputs": [],
   "source": [
    "results = client.get_job_response(job_id=response[\"job_id\"], job_type=\"sample-qubo\")"
   ]
  },
  {
   "cell_type": "code",
   "execution_count": 29,
   "metadata": {},
   "outputs": [
    {
     "data": {
      "text/plain": [
       "{'job_id': '64f9f7a7f25d8eafde724991',\n",
       " 'details': {'status': 'COMPLETED',\n",
       "  'type': 'sample_qubo',\n",
       "  'organization_id': '5ddf5db3fed87d53b6bf392a',\n",
       "  'username': 'wdyk'},\n",
       " 'results': {'file_id': '64f9f7aef25d8eafde724996'},\n",
       " 'submission': {'qubo_file_id': '64f9f79df25d8eafde724986',\n",
       "  'params': {'sampler_type': 'csample'}},\n",
       " 'metrics': {'time_ns': {'wall': {'start': 1694103463378356812,\n",
       "    'end': 1694103470853350947,\n",
       "    'total': 7474994135,\n",
       "    'queue': {'total': 63680072,\n",
       "     'complete': {'start': 1694103470356586836,\n",
       "      'end': 1694103470364166697,\n",
       "      'total': 7579861},\n",
       "     'job_intake': {'start': 1694103463390111587,\n",
       "      'end': 1694103463402755121,\n",
       "      'total': 12643534},\n",
       "     'sampler': {'start': 1694103463809292391,\n",
       "      'end': 1694103463817520119,\n",
       "      'total': 8227728},\n",
       "     'uber_post_process': {'start': 1694103470000292634,\n",
       "      'end': 1694103470008267560,\n",
       "      'total': 7974926},\n",
       "     'uber_solver': {'total': 27254023,\n",
       "      'visits': [{'start': 1694103463641678789,\n",
       "        'end': 1694103463648932081,\n",
       "        'total': 7253292},\n",
       "       {'start': 1694103469733883775,\n",
       "        'end': 1694103469742848446,\n",
       "        'total': 8964671},\n",
       "       {'start': 1694103470213060776,\n",
       "        'end': 1694103470224096836,\n",
       "        'total': 11036060}]}}}},\n",
       "  'provider': {}}}"
      ]
     },
     "execution_count": 29,
     "metadata": {},
     "output_type": "execute_result"
    }
   ],
   "source": [
    "results"
   ]
  },
  {
   "cell_type": "code",
   "execution_count": 30,
   "metadata": {},
   "outputs": [],
   "source": [
    "results = client.get_file_whole(file_id=results[\"results\"][\"file_id\"])"
   ]
  },
  {
   "cell_type": "code",
   "execution_count": 31,
   "metadata": {},
   "outputs": [
    {
     "data": {
      "text/plain": [
       "{'counts': [1, 1, 1, 1, 1, 1, 1, 1, 1, 1, 1, 1, 1, 1, 1, 1],\n",
       " 'energies': [-1.1898511244331456,\n",
       "  -0.8877137580512509,\n",
       "  -0.819905979644713,\n",
       "  -0.5146328311294215,\n",
       "  -0.34862310442894584,\n",
       "  -0.16267735434548958,\n",
       "  -0.08611045697194397,\n",
       "  0,\n",
       "  0.2845375417275904,\n",
       "  0.42932135806834215,\n",
       "  0.5700900552894432,\n",
       "  0.5764419726316259,\n",
       "  0.6174846479445515,\n",
       "  0.9289718217937182,\n",
       "  1.0285917264756885,\n",
       "  1.788533379764902],\n",
       " 'file_name': 'wdyk_5ddf5db3fed87d53b6bf392a_sample_qubo',\n",
       " 'file_type': 'job_results_sample_qubo',\n",
       " 'samples': [[1, 1, 0, 1],\n",
       "  [1, 0, 0, 0],\n",
       "  [0, 1, 0, 1],\n",
       "  [1, 0, 0, 1],\n",
       "  [0, 1, 0, 0],\n",
       "  [1, 1, 0, 0],\n",
       "  [0, 1, 1, 1],\n",
       "  [0, 0, 0, 0],\n",
       "  [0, 0, 1, 0],\n",
       "  [1, 0, 1, 0],\n",
       "  [0, 1, 1, 0],\n",
       "  [1, 1, 1, 1],\n",
       "  [1, 0, 1, 1],\n",
       "  [0, 0, 0, 1],\n",
       "  [0, 0, 1, 1],\n",
       "  [1, 1, 1, 0]]}"
      ]
     },
     "execution_count": 31,
     "metadata": {},
     "output_type": "execute_result"
    }
   ],
   "source": [
    "results"
   ]
  },
  {
   "cell_type": "code",
   "execution_count": null,
   "metadata": {},
   "outputs": [],
   "source": []
  }
 ],
 "metadata": {
  "kernelspec": {
   "display_name": "flightplan",
   "language": "python",
   "name": "python3"
  },
  "language_info": {
   "codemirror_mode": {
    "name": "ipython",
    "version": 3
   },
   "file_extension": ".py",
   "mimetype": "text/x-python",
   "name": "python",
   "nbconvert_exporter": "python",
   "pygments_lexer": "ipython3",
   "version": "3.9.2"
  },
  "orig_nbformat": 4
 },
 "nbformat": 4,
 "nbformat_minor": 2
}
