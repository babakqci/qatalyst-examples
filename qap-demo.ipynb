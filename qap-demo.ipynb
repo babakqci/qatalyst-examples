{
 "cells": [
  {
   "attachments": {},
   "cell_type": "markdown",
   "metadata": {},
   "source": [
    "Quadratic Assignment Problem\n",
    "================================\n",
    "\n",
    "The quadratic assignment problem was first introduced in 1957 by Koopmans and Beckmann to solve facility location problems which call for minimizing the cost proportional to the flow of goods between the facilities. This is a well studied problem.\n",
    "\n",
    "QAP seeks to mimimize a cost function based on fixed quantities (weights) between pairs of one set, $P$, and distances between pairs of another set $L$ when each member of $L$ is assigned to one member of $P$."
   ]
  },
  {
   "attachments": {},
   "cell_type": "markdown",
   "metadata": {},
   "source": [
    "Simple Example\n",
    "-----------------\n",
    "\n",
    "This first example is a synthetic problem with a five facilities and five locations. The first consideration is the planned flow between the facilities. The table below shows the quantity of material planned to be moved from one facility to the other. Facility 1 sends to facilities 2, 3 and 5. Facilites 2 and 3 send to facilities 4 and 5. Facility 4 doesn't send to any other faciilty and facility 5 sends one unit to facility 4.\n",
    "\n",
    "| Source Facility / Destination Facility | Facility 1 | Facility 2 | Faclity 3 | Facility 4 | Facility 5 |\n",
    "|---|---|---|---|---|---|\n",
    "| **Facility 1**| | 5 | 8 |  | 1 |\n",
    "| **Facility 2** | | | | 10 | 15 |\n",
    "| **Facility 3** | | | | 13 | 18 |\n",
    "| **Facility 4** | | | | | |\n",
    "| **Facility 5** | | | | 1 | |\n",
    "\n",
    "The second consideration is the distance between locations. The distances in this example are symmetric.\n",
    "\n",
    "| Distances | Location 1 | Location 2 | Location 3 | Location 4 | Location 5 |\n",
    "|---|---|---|---|---|---|\n",
    "| **Location 1** | 0 | 8.54 | 6.4 | 10 | 8.94 |\n",
    "| **Location 2** | 8.54 | 0 | 4.47 | 5.39 | 6.49 |\n",
    "| **Location 3** | 6.4 | 4.47 | 0 | 3.61 | 3 |\n",
    "| **Location 4** | 10 | 5.39 | 3.61 | 0 | 2 |\n",
    "| **Location 5** | 8.94 | 6.49 | 3 | 2 | 0 |\n",
    "\n",
    "The third consideration is the cost of building a facility at a location.\n",
    "\n",
    "| Facility / Location | Location 1| Location 2 | Location 3 | Location 4 | Location 5 |\n",
    "|---|---|---|---|---|---|\n",
    "| **Facility 1**| 2 | 3 | 6 | 3 | 7 |\n",
    "| **Facility 2** | 3 | 9 | 2 | 5 | 9 |\n",
    "| **Facility 3** | 2 | 6 | 4 | 1 | 2 |\n",
    "| **Facility 4** | 7 | 5 | 8 | 5 | 7 |\n",
    "| **Facility 5** | 1 | 9 | 2 | 9 | 2 |\n",
    "\n",
    "The outcomes in this example range from optimal to 166% of optimal. This implies a considerable benefit to performing the optimization."
   ]
  },
  {
   "cell_type": "code",
   "execution_count": null,
   "metadata": {},
   "outputs": [],
   "source": [
    "import os\n",
    "import time\n",
    "import numpy as np\n",
    "import matplotlib.pyplot as plt\n",
    "from qci_client import QciClient\n",
    "from helpers import plot_qap, assignment_from_solution, create_qap_objective, create_qap_constraints, find_index_of_nearest\n",
    "from data import mip_obj_vals"
   ]
  },
  {
   "attachments": {},
   "cell_type": "markdown",
   "metadata": {},
   "source": [
    "Here is the data described in the tables above."
   ]
  },
  {
   "cell_type": "code",
   "execution_count": null,
   "metadata": {},
   "outputs": [],
   "source": [
    "\n",
    "A = np.array([[0, 5, 8, 0, 1],\n",
    "                [0, 0, 0, 10, 15],\n",
    "                [0, 0, 0, 13, 18],\n",
    "                [0, 0, 0, 0, 0.],\n",
    "                [0, 0, 0, 1, 0.]])\n",
    "B = np.array([[0, 8.54, 6.4, 10, 8.94],\n",
    "                [8.54, 0, 4.47, 5.39, 6.49],\n",
    "                [6.4, 4.47, 0, 3.61, 3.0],\n",
    "                [10, 5.39, 3.61, 0, 2.0],\n",
    "                [8.94, 6.49, 3.0, 2.0, 0.]])\n",
    "C = np.array([[2, 3, 6, 3, 7],\n",
    "                [3, 9, 2, 5, 9],\n",
    "                [2, 6, 4, 1, 2],\n",
    "                [7, 5, 8, 5, 7],\n",
    "                [1, 9, 2, 9, 2.]])\n",
    "n = 5\n",
    "num_variables = 25"
   ]
  },
  {
   "attachments": {},
   "cell_type": "markdown",
   "metadata": {},
   "source": [
    "This code creates the objective matrix from the three input matrices, then uploads the data to the API."
   ]
  },
  {
   "cell_type": "code",
   "execution_count": null,
   "metadata": {},
   "outputs": [],
   "source": [
    "qciclient = QciClient()"
   ]
  },
  {
   "cell_type": "code",
   "execution_count": null,
   "metadata": {},
   "outputs": [],
   "source": [
    "objective_file = create_qap_objective(A, B, C, n, num_variables)\n",
    "obj_file_id = qciclient.upload_file(data=objective_file)[\"file_id\"]"
   ]
  },
  {
   "attachments": {},
   "cell_type": "markdown",
   "metadata": {},
   "source": [
    "Here we start a client for the API and upload the objective matrix."
   ]
  },
  {
   "attachments": {},
   "cell_type": "markdown",
   "metadata": {},
   "source": [
    "The constraint matrix is built using only the number of facilities/locations. It is the same across all problems of the same size, independent of the other input data.\n",
    "\n",
    "This code builds the constraint data and uploads two files, one for the left hand side and another for the right."
   ]
  },
  {
   "cell_type": "code",
   "execution_count": null,
   "metadata": {},
   "outputs": [],
   "source": [
    "constraint_data, rhs_data = create_qap_constraints(n)\n",
    "constraint_file = {\"file_type\": \"constraints\", \"file_name\": \"qap_01_cons.json\",\n",
    "                   \"data\": constraint_data, \"num_variables\": num_variables, \"num_constraints\": 2*n}\n",
    "constraint_file_id = qciclient.upload_file(data=constraint_file)[\"file_id\"]\n",
    "rhs_file = {\"file_type\": \"rhs\", \"file_name\": \"qap_01_rhs.json\",\n",
    "            \"data\": rhs_data, \"num_constraints\": 2*n}\n",
    "rhs_file_id = qciclient.upload_file(data=rhs_file)[\"file_id\"]"
   ]
  },
  {
   "attachments": {},
   "cell_type": "markdown",
   "metadata": {},
   "source": [
    "This is where we make the job request. The request is synchronous, but could be made asynchronously and results retrieved at a later time."
   ]
  },
  {
   "cell_type": "code",
   "execution_count": null,
   "metadata": {},
   "outputs": [],
   "source": [
    "\n",
    "alpha = 105.625\n",
    "job_params = {\"sampler_type\": \"eqc1\", \"alpha\": alpha, \"n_samples\": 5}\n",
    "body = qciclient.build_job_body(job_type=\"sample-constraint\", job_params=job_params,\n",
    "    constraints_file_id=constraint_file_id, objective_file_id=obj_file_id,\n",
    "    rhs_file_id=rhs_file_id, job_name=f\"QAP Demo\",\n",
    "    job_tags=[])\n",
    "# submit the job request to be processed asynchronously\n",
    "response = qciclient.process_job(job_type=\"sample-constraint\", job_body=body, wait=False)"
   ]
  },
  {
   "cell_type": "code",
   "execution_count": null,
   "metadata": {},
   "outputs": [],
   "source": [
    "job_id = response[\"job_id\"]\n",
    "job_id"
   ]
  },
  {
   "cell_type": "code",
   "execution_count": null,
   "metadata": {},
   "outputs": [],
   "source": [
    "# check on the job status until COMPLETE\n",
    "while qciclient.get_job_status(job_id=job_id)[\"status\"] == \"RUNNING\":\n",
    "    print(\".\", end=\"\")\n",
    "    time.sleep(5)"
   ]
  },
  {
   "cell_type": "code",
   "execution_count": null,
   "metadata": {},
   "outputs": [],
   "source": [
    "response = qciclient.get_job_response(job_id=job_id, job_type=\"sample-constraint\")"
   ]
  },
  {
   "attachments": {},
   "cell_type": "markdown",
   "metadata": {},
   "source": [
    "The response includes results samples and energies."
   ]
  },
  {
   "cell_type": "code",
   "execution_count": null,
   "metadata": {},
   "outputs": [],
   "source": [
    "results_file_id = response[\"results\"][\"file_id\"]\n",
    "results = qciclient.get_file_whole(file_id=results_file_id)"
   ]
  },
  {
   "cell_type": "code",
   "execution_count": null,
   "metadata": {},
   "outputs": [],
   "source": [
    "# results = response[\"results\"]\n",
    "sample = np.array(results[\"samples\"])"
   ]
  },
  {
   "cell_type": "code",
   "execution_count": null,
   "metadata": {},
   "outputs": [],
   "source": [
    "results[\"energies\"], results[\"counts\"]"
   ]
  },
  {
   "attachments": {},
   "cell_type": "markdown",
   "metadata": {},
   "source": [
    "We convert the bit vector of length 25 into an array of assignments of length 5 and plot the assignments in a bi-partite graph."
   ]
  },
  {
   "cell_type": "code",
   "execution_count": null,
   "metadata": {},
   "outputs": [],
   "source": [
    "assignment = assignment_from_solution(sample[0], n)\n",
    "assignment"
   ]
  },
  {
   "cell_type": "code",
   "execution_count": null,
   "metadata": {},
   "outputs": [],
   "source": [
    "plot_qap(assignment)"
   ]
  },
  {
   "attachments": {},
   "cell_type": "markdown",
   "metadata": {},
   "source": [
    "These values were obtained by enumerating all feasible solutions and evaluating the objective function. "
   ]
  },
  {
   "attachments": {},
   "cell_type": "markdown",
   "metadata": {},
   "source": [
    "Results\n",
    "========\n",
    "\n",
    "In this plot, the objective values of all feasible solutions are shown with the objective value of the solution found by **Dirac 1**. Notice the result is the lowest possible objective value."
   ]
  },
  {
   "cell_type": "code",
   "execution_count": null,
   "metadata": {},
   "outputs": [],
   "source": [
    "plt.figure(figsize=(12, 9))\n",
    "ser1 = plt.plot(mip_obj_vals, \"c-\", label=\"Feasible Solutions\")\n",
    "plt.title(\"Feasible solutions to QAP\")\n",
    "ax = plt.gca()\n",
    "plt.xlabel(\"Feasible Solution\")\n",
    "ax.get_xaxis().set_visible(False)\n",
    "plt.ylabel(\"Objective Value\")\n",
    "# ser2 = plt.plot([0, len(mip_obj_vals)-1], [results[\"energies\"][0], results[\"energies\"][0]], label=\"Found Solution\")\n",
    "obj_val = results[\"energies\"][0]\n",
    "idx = find_index_of_nearest(mip_obj_vals, obj_val)\n",
    "ser2 = plt.scatter([idx], [obj_val], c=\"r\", marker=\"o\", label=\"Found Solution\")\n",
    "plt.legend()\n",
    "plt.grid()"
   ]
  },
  {
   "cell_type": "code",
   "execution_count": null,
   "metadata": {},
   "outputs": [],
   "source": []
  }
 ],
 "metadata": {
  "kernelspec": {
   "display_name": "Python 3 (ipykernel)",
   "language": "python",
   "name": "python3"
  },
  "language_info": {
   "codemirror_mode": {
    "name": "ipython",
    "version": 3
   },
   "file_extension": ".py",
   "mimetype": "text/x-python",
   "name": "python",
   "nbconvert_exporter": "python",
   "pygments_lexer": "ipython3",
   "version": "3.10.2"
  },
  "vscode": {
   "interpreter": {
    "hash": "e4e5229f39531d576486b7a7581587d21e0df360ca01eb3c7a4911d025aa9da2"
   }
  }
 },
 "nbformat": 4,
 "nbformat_minor": 2
}
